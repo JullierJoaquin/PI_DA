{
 "cells": [
  {
   "cell_type": "markdown",
   "metadata": {},
   "source": [
    "## 01_ETL"
   ]
  },
  {
   "cell_type": "markdown",
   "metadata": {},
   "source": [
    "..."
   ]
  },
  {
   "cell_type": "code",
   "execution_count": 224,
   "metadata": {},
   "outputs": [],
   "source": [
    "# importar librerias necesarias\n",
    "import pandas as pd\n",
    "import geopandas as gpd"
   ]
  },
  {
   "cell_type": "markdown",
   "metadata": {},
   "source": [
    "##### Importar"
   ]
  },
  {
   "cell_type": "code",
   "execution_count": 225,
   "metadata": {},
   "outputs": [],
   "source": [
    "# sig data\n",
    "sig_provincias = gpd.read_file(\"data/sig/provincia.shp\")\n",
    "sig_localidades = gpd.read_file(\"data/sig/localidad_bahra.shp\")"
   ]
  },
  {
   "cell_type": "code",
   "execution_count": 226,
   "metadata": {},
   "outputs": [],
   "source": [
    "# informacion a nivel nacional\n",
    "velocidad_nac_por_año = pd.read_csv(\"data/unprocessed/historico_velocidad_internet.csv\")\n",
    "accesos_nac_por_tecnologia = pd.read_csv(\"data/unprocessed/Internet_Accesos-por-tecnologia.csv\")\n",
    "accesos_nac_por_velocidad = pd.read_csv(\"data/unprocessed/Internet_Accesos-por-velocidad.csv\")\n",
    "ingresos_nac = pd.read_csv(\"data/unprocessed/Internet_Ingresos.csv\")\n",
    "penetracion_nac = pd.read_csv(\"data/unprocessed/Internet_Penetracion (1).csv\")\n",
    "baf_nac = pd.read_csv(\"data/unprocessed/Internet_BAF.csv\")"
   ]
  },
  {
   "cell_type": "code",
   "execution_count": 227,
   "metadata": {},
   "outputs": [],
   "source": [
    "# informacion a nivel provincial\n",
    "accesos_prov_por_tecnologia = pd.read_csv(\"data/unprocessed/Internet_Accesos-por-tecnologia (1).csv\")\n",
    "accesos_prov_por_velocidad = pd.read_csv(\"data/unprocessed/AccesosaInternetfijoporvelocidadbajadayprovincia_transformado.csv\")\n",
    "penetracion_prov = pd.read_csv(\"data/unprocessed/Internet_Penetracion.csv\")\n",
    "baf_prov = pd.read_csv(\"data/unprocessed/Internet_BAF (1).csv\")"
   ]
  },
  {
   "cell_type": "code",
   "execution_count": 228,
   "metadata": {},
   "outputs": [],
   "source": [
    "# informacion a nivel local\n",
    "accesos_loc_por_tecnologia = pd.read_csv(\"data/unprocessed/AccesosaInternetfijoportecnologiaylocalidad_2791751698918580638.csv\")\n",
    "accesos_loc_por_velocidad = pd.read_csv(\"data/unprocessed/AccesosaInternetfijoporvelocidaddebajadaylocalidad_transformado.csv\")\n",
    "localidades_con_conectividad = pd.read_csv(\"data/unprocessed/Listadodelocalidadesconconectividadainternet_2750221698918588798.csv\")"
   ]
  },
  {
   "cell_type": "markdown",
   "metadata": {},
   "source": [
    "##### Transformar"
   ]
  },
  {
   "cell_type": "code",
   "execution_count": 229,
   "metadata": {},
   "outputs": [],
   "source": [
    "# sig data\n",
    "sig_provincias.drop(columns=[\"gid\", \"entidad\", \"fna\", \"gna\", \"in1\", \"fdc\", \"sag\"], inplace=True)\n",
    "sig_provincias.rename(columns={\"nam\": \"provincia\"}, inplace=True)\n",
    "sig_localidades.rename(columns={\"nom_agl\": \"localidad\", \"nom_depto\": \"departamento\", \"nom_pcia\": \"provincia\"}, inplace=True) \n",
    "sig_localidades.drop(columns=[\"gid\", \"cod_pcia\", \"cod_depto\", \"cod_ase\", \"fna\", \"cod_aglo\", \"nom_aglo\", \"cod_agl\", \"lat_gd\", \"long_gd\", \"lat_gs\", \"long_gs\", \"fdc\", \"tipo_asent\"], inplace=True)"
   ]
  },
  {
   "cell_type": "code",
   "execution_count": 230,
   "metadata": {},
   "outputs": [],
   "source": [
    "# informacion a nivel nacional\n",
    "velocidad_nac_por_año.rename(columns={\"Mbps (Media de bajada)\": \"Velocidad media\", \"Trimestre.1\": \"Periodo\"}, inplace=True)\n",
    "accesos_nac_por_tecnologia = accesos_nac_por_tecnologia.merge(baf_nac[[\"Año\", \"Trimestre\", \"Banda ancha fija\", \"Dial up\"]], on=[\"Año\", \"Trimestre\"])\n",
    "accesos_nac_por_tecnologia.rename(columns={\"Dial up\": \"Dial Up\", \"Banda ancha fija\": \"BAF\"}, inplace=True)\n",
    "accesos_nac_por_velocidad.rename(columns={\"OTROS\": \"Otros\"}, inplace=True)\n",
    "ingresos_nac.rename(columns={\"OTROS\": \"Otros\"}, inplace=True)\n",
    "ingresos_nac[\"Ingresos\"] = ingresos_nac[\"Ingresos (miles de pesos)\"] * 1000\n",
    "ingresos_nac.drop(columns=\"Ingresos (miles de pesos)\", inplace=True)\n",
    "penetracion_nac[\"Accesos por cada 100 hogares\"].replace(\",\", \".\", regex=True, inplace=True)\n",
    "penetracion_nac[\"Accesos por cada 100 hogares\"] = penetracion_nac[\"Accesos por cada 100 hogares\"].astype(float)\n",
    "penetracion_nac[\"Accesos por cada 100 hab\"].replace(\",\", \".\", regex=True, inplace=True)\n",
    "penetracion_nac[\"Accesos por cada 100 hab\"] = penetracion_nac[\"Accesos por cada 100 hab\"].astype(float)"
   ]
  },
  {
   "cell_type": "code",
   "execution_count": 231,
   "metadata": {},
   "outputs": [],
   "source": [
    "# informacion a nivel provincial\n",
    "accesos_prov_por_tecnologia[\"Año\"].replace(\"2019 *\", \"2019\", inplace=True)\n",
    "accesos_prov_por_tecnologia[\"Trimestre\"].replace(\"1 *\", \"1\", inplace=True)\n",
    "accesos_prov_por_tecnologia[\"Trimestre\"].replace(\"2 *\", \"2\", inplace=True)\n",
    "accesos_prov_por_tecnologia[\"Trimestre\"].replace(\"3 *\", \"3\", inplace=True)\n",
    "accesos_prov_por_tecnologia.drop(labels=864, inplace=True)\n",
    "accesos_prov_por_tecnologia[\"Año\"] = accesos_prov_por_tecnologia[\"Año\"].astype(int)\n",
    "accesos_prov_por_tecnologia[\"Trimestre\"] = accesos_prov_por_tecnologia[\"Trimestre\"].astype(int)\n",
    "accesos_prov_por_tecnologia = accesos_prov_por_tecnologia.merge(baf_prov[[\"Año\", \"Trimestre\", \"Banda ancha fija\", \"Dial up\"]], on=[\"Año\", \"Trimestre\"])\n",
    "accesos_prov_por_tecnologia.rename(columns={\"Dial up\": \"Dial Up\", \"Banda ancha fija\": \"BAF\"}, inplace=True)\n",
    "accesos_prov_por_velocidad.drop(labels=0, inplace=True)\n",
    "accesos_prov_por_velocidad.fillna(0, inplace=True)\n",
    "penetracion_prov.drop(columns=[\"Unnamed: 4\", \"Unnamed: 5\", \"Unnamed: 6\"], inplace=True)\n",
    "penetracion_prov[\"Accesos por cada 100 hogares\"].replace(\",\", \".\", regex=True, inplace=True)\n",
    "penetracion_prov[\"Accesos por cada 100 hogares\"] = penetracion_prov[\"Accesos por cada 100 hogares\"].astype(float)"
   ]
  },
  {
   "cell_type": "code",
   "execution_count": 232,
   "metadata": {},
   "outputs": [],
   "source": [
    "# informacion a nivel local\n",
    "accesos_loc_por_tecnologia.rename(columns={\"OTROS\": \"Otros\", \"CABLEMODEM\": \"Cablemodem\", \"FIBRA OPTICA\": \"Fibra óptica\", \"SATELITAL\": \"Satelital\", \"WIMAX\": \"Wimax\", \"WIRELESS\": \"Wireless\", \"DIAL UP\": \"Dial Up\", \"Total general\": \"Total\"}, inplace=True)\n",
    "accesos_loc_por_tecnologia.drop(columns=\"Unnamed: 13\", inplace=True)\n",
    "accesos_loc_por_tecnologia[\"ADSL\"].replace(\"- 0\", \"0\", regex=True, inplace=True)\n",
    "accesos_loc_por_tecnologia[\"ADSL\"].replace(\",\", \".\", regex=True, inplace=True)\n",
    "accesos_loc_por_tecnologia[\"ADSL\"] = accesos_loc_por_tecnologia[\"ADSL\"].astype(float)\n",
    "accesos_loc_por_tecnologia[\"Cablemodem\"].replace(\"- 0\", \"0\", regex=True, inplace=True)\n",
    "accesos_loc_por_tecnologia[\"Cablemodem\"].replace(\",\", \".\", regex=True, inplace=True)\n",
    "accesos_loc_por_tecnologia[\"Cablemodem\"] = accesos_loc_por_tecnologia[\"Cablemodem\"].astype(float)\n",
    "accesos_loc_por_tecnologia[\"Dial Up\"].replace(\"- 0\", \"0\", regex=True, inplace=True)\n",
    "accesos_loc_por_tecnologia[\"Dial Up\"].replace(\",\", \".\", regex=True, inplace=True)\n",
    "accesos_loc_por_tecnologia[\"Dial Up\"] = accesos_loc_por_tecnologia[\"Dial Up\"].astype(float)\n",
    "accesos_loc_por_tecnologia[\"Fibra óptica\"].replace(\"- 0\", \"0\", regex=True, inplace=True)\n",
    "accesos_loc_por_tecnologia[\"Fibra óptica\"].replace(\",\", \".\", regex=True, inplace=True)\n",
    "accesos_loc_por_tecnologia[\"Fibra óptica\"] = accesos_loc_por_tecnologia[\"Fibra óptica\"].astype(float)\n",
    "accesos_loc_por_tecnologia[\"Otros\"].replace(\"- 0\", \"0\", regex=True, inplace=True)\n",
    "accesos_loc_por_tecnologia[\"Otros\"].replace(\",\", \".\", regex=True, inplace=True)\n",
    "accesos_loc_por_tecnologia[\"Otros\"] = accesos_loc_por_tecnologia[\"Otros\"].astype(float)\n",
    "accesos_loc_por_tecnologia[\"Satelital\"].replace(\"- 0\", \"0\", regex=True, inplace=True)\n",
    "accesos_loc_por_tecnologia[\"Satelital\"].replace(\",\", \".\", regex=True, inplace=True)\n",
    "accesos_loc_por_tecnologia[\"Satelitala\"] = accesos_loc_por_tecnologia[\"Satelital\"].astype(float)\n",
    "accesos_loc_por_tecnologia[\"Wimax\"].replace(\"- 0\", \"0\", regex=True, inplace=True)\n",
    "accesos_loc_por_tecnologia[\"Wimax\"].replace(\",\", \".\", regex=True, inplace=True)\n",
    "accesos_loc_por_tecnologia[\"Wimax\"] = accesos_loc_por_tecnologia[\"Wimax\"].astype(float)\n",
    "accesos_loc_por_tecnologia[\"Wireless\"].replace(\"- 0\", \"0\", regex=True, inplace=True)\n",
    "accesos_loc_por_tecnologia[\"Wireless\"].replace(\",\", \".\", regex=True, inplace=True)\n",
    "accesos_loc_por_tecnologia[\"Wireless\"] = accesos_loc_por_tecnologia[\"Wireless\"].astype(float)\n",
    "accesos_loc_por_tecnologia[\"Total\"].replace(\"- 0\", \"0\", regex=True, inplace=True)\n",
    "accesos_loc_por_tecnologia[\"Total\"].replace(\",\", \".\", regex=True, inplace=True)\n",
    "accesos_loc_por_tecnologia[\"Total\"] = accesos_loc_por_tecnologia[\"Total\"].astype(float)\n",
    "localidades_con_conectividad.rename(columns={\"Cablemódem\": \"Cablemodem\"}, inplace=True)\n",
    "localidades_con_conectividad[\"ADSL\"].replace(\"SI\", True, regex=True, inplace=True)\n",
    "localidades_con_conectividad[\"ADSL\"].replace(\"--\", False, regex=True, inplace=True)\n",
    "localidades_con_conectividad[\"Cablemodem\"].replace(\"SI\", True, regex=True, inplace=True)\n",
    "localidades_con_conectividad[\"Cablemodem\"].replace(\"--\", False, regex=True, inplace=True)\n",
    "localidades_con_conectividad[\"Dial Up\"].replace(\"SI\", True, regex=True, inplace=True)\n",
    "localidades_con_conectividad[\"Dial Up\"].replace(\"--\", False, regex=True, inplace=True)\n",
    "localidades_con_conectividad[\"Fibra óptica\"].replace(\"SI\", True, regex=True, inplace=True)\n",
    "localidades_con_conectividad[\"Fibra óptica\"].replace(\"--\", False, regex=True, inplace=True)\n",
    "localidades_con_conectividad[\"4G\"].replace(\"SI\", True, regex=True, inplace=True)\n",
    "localidades_con_conectividad[\"4G\"].replace(\"--\", False, regex=True, inplace=True)\n",
    "localidades_con_conectividad[\"3G\"].replace(\"SI\", True, regex=True, inplace=True)\n",
    "localidades_con_conectividad[\"3G\"].replace(\"--\", False, regex=True, inplace=True)\n",
    "localidades_con_conectividad[\"Telefonía Fija\"].replace(\"SI\", True, regex=True, inplace=True)\n",
    "localidades_con_conectividad[\"Telefonía Fija\"].replace(\"--\", False, regex=True, inplace=True)\n",
    "localidades_con_conectividad[\"Wireless\"].replace(\"SI\", True, regex=True, inplace=True)\n",
    "localidades_con_conectividad[\"Wireless\"].replace(\"--\", False, regex=True, inplace=True)\n",
    "localidades_con_conectividad[\"Satelital\"].replace(\"SI\", True, regex=True, inplace=True)\n",
    "localidades_con_conectividad[\"Satelital\"].replace(\"--\", False, regex=True, inplace=True)"
   ]
  },
  {
   "cell_type": "code",
   "execution_count": 233,
   "metadata": {},
   "outputs": [
    {
     "data": {
      "text/plain": [
       "'def asignar_zona(provincia):\\n    noreste = [\"Formosa\", \"Chaco\", \"Santiago Del Estero\", \"Corrientes\", \"Misiones\"]\\n    noroeste = [\"Jujuy\", \"Salta\", \"Tucumán\", \"Catamarca\"]\\n    centro = [\"Capital Federal\", \"Buenos Aires\", \"Santa Fe\", \"Córdoba\", \"Entre Ríos\", \"La Pampa\"]\\n    oeste = [\"San Juan\", \"Mendoza\", \"San Luis\", \"La Rioja\"]\\n    sur = [\"Neuquén\", \"Río Negro\", \"Chubut\", \"Santa Cruz\", \"Tierra Del Fuego\"]\\n    if provincia in noroeste:\\n        return \\'Noroeste\\'\\n    elif provincia in noreste:\\n        return \\'Noreste\\'\\n    elif provincia in centro:\\n        return \\'Centro\\'\\n    elif provincia in oeste:\\n        return \\'Oeste\\'\\n    elif provincia in sur:\\n        return \\'Sur\\'\\n    else:\\n        return None\\n\\n# Aplicar la función para crear la columna \\'Zona\\' en el DataFrame\\naccesos_prov_por_tecnologia[\\'Zona\\'] = accesos_prov_por_tecnologia[\\'Provincia\\'].apply(asignar_zona)'"
      ]
     },
     "execution_count": 233,
     "metadata": {},
     "output_type": "execute_result"
    }
   ],
   "source": [
    "\"\"\"def asignar_zona(provincia):\n",
    "    noreste = [\"Formosa\", \"Chaco\", \"Santiago Del Estero\", \"Corrientes\", \"Misiones\"]\n",
    "    noroeste = [\"Jujuy\", \"Salta\", \"Tucumán\", \"Catamarca\"]\n",
    "    centro = [\"Capital Federal\", \"Buenos Aires\", \"Santa Fe\", \"Córdoba\", \"Entre Ríos\", \"La Pampa\"]\n",
    "    oeste = [\"San Juan\", \"Mendoza\", \"San Luis\", \"La Rioja\"]\n",
    "    sur = [\"Neuquén\", \"Río Negro\", \"Chubut\", \"Santa Cruz\", \"Tierra Del Fuego\"]\n",
    "    if provincia in noroeste:\n",
    "        return 'Noroeste'\n",
    "    elif provincia in noreste:\n",
    "        return 'Noreste'\n",
    "    elif provincia in centro:\n",
    "        return 'Centro'\n",
    "    elif provincia in oeste:\n",
    "        return 'Oeste'\n",
    "    elif provincia in sur:\n",
    "        return 'Sur'\n",
    "    else:\n",
    "        return None\n",
    "\n",
    "# Aplicar la función para crear la columna 'Zona' en el DataFrame\n",
    "accesos_prov_por_tecnologia['Zona'] = accesos_prov_por_tecnologia['Provincia'].apply(asignar_zona)\"\"\""
   ]
  },
  {
   "cell_type": "markdown",
   "metadata": {},
   "source": [
    "##### Exportar"
   ]
  },
  {
   "cell_type": "code",
   "execution_count": 234,
   "metadata": {},
   "outputs": [],
   "source": [
    "# sig datasets\n",
    "sig_provincias.to_csv(\"data/sig_provincias.csv\")\n",
    "sig_localidades.to_csv(\"data/sig_localidades.csv\")"
   ]
  },
  {
   "cell_type": "code",
   "execution_count": 235,
   "metadata": {},
   "outputs": [],
   "source": [
    "# informacion a nivel nacional\n",
    "velocidad_nac_por_año.to_csv(\"data/velocidad_nac_por_año.csv\")\n",
    "accesos_nac_por_tecnologia.to_csv(\"data/accesos_nac_por_tecnologia.csv\")\n",
    "accesos_nac_por_velocidad.to_csv(\"data/accesos_nac_por_velocidad.csv\")\n",
    "ingresos_nac.to_csv(\"data/ingresos_nac.csv\")\n",
    "penetracion_nac.to_csv(\"data/penetracion_nac.csv\")"
   ]
  },
  {
   "cell_type": "code",
   "execution_count": 236,
   "metadata": {},
   "outputs": [],
   "source": [
    "# informacion a nivel provincial\n",
    "accesos_prov_por_tecnologia.to_csv(\"data/accesos_prov_por_tecnologia.csv\")\n",
    "accesos_prov_por_velocidad.to_csv(\"data/accesos_prov_por_velocidad.csv\")\n",
    "penetracion_prov.to_csv(\"data/penetracion_prov.csv\")"
   ]
  },
  {
   "cell_type": "code",
   "execution_count": 237,
   "metadata": {},
   "outputs": [],
   "source": [
    "# informacion a nivel local\n",
    "accesos_loc_por_tecnologia.to_csv(\"data/accesos_loc_por_tecnologia.csv\")\n",
    "accesos_loc_por_velocidad.to_csv(\"data/accesos_loc_por_velocidad.csv\")\n",
    "localidades_con_conectividad.to_csv(\"data/localidades_con_conectividad.csv\")"
   ]
  }
 ],
 "metadata": {
  "language_info": {
   "name": "python"
  }
 },
 "nbformat": 4,
 "nbformat_minor": 2
}
